{
  "nbformat": 4,
  "nbformat_minor": 0,
  "metadata": {
    "colab": {
      "provenance": [],
      "authorship_tag": "ABX9TyMVmm+NTk0PdDKapLT+CWXF",
      "include_colab_link": true
    },
    "kernelspec": {
      "name": "python3",
      "display_name": "Python 3"
    },
    "language_info": {
      "name": "python"
    }
  },
  "cells": [
    {
      "cell_type": "markdown",
      "metadata": {
        "id": "view-in-github",
        "colab_type": "text"
      },
      "source": [
        "<a href=\"https://colab.research.google.com/github/ctt221/Computer-area-multipurpose-page/blob/main/Red_Neuronal1.ipynb\" target=\"_parent\"><img src=\"https://colab.research.google.com/assets/colab-badge.svg\" alt=\"Open In Colab\"/></a>"
      ]
    },
    {
      "cell_type": "code",
      "execution_count": 3,
      "metadata": {
        "id": "wmEa9oqV7pq4"
      },
      "outputs": [],
      "source": [
        "import tensorflow as tf\n",
        "import numpy as np"
      ]
    },
    {
      "cell_type": "code",
      "source": [
        "celsius = np.array([-40,-10,0,8,15,22,38],dtype=float)\n",
        "fahrenheit = np.array([-40,14,32,46,59,72,100],dtype=float)"
      ],
      "metadata": {
        "id": "OqGBRc4U7yjZ"
      },
      "execution_count": 4,
      "outputs": []
    },
    {
      "cell_type": "code",
      "source": [
        "#capa = tf.keras.layers.Dense(units=1,input_shape=[1])\n",
        "#modelo = tf.keras.Sequential([capa])\n",
        "\n",
        "oculta1 = tf.keras.layers.Dense(units=3,input_shape=[1])\n",
        "oculta2 = tf.keras.layers.Dense(units=3)\n",
        "salida = tf.keras.layers.Dense(units=1)\n",
        "\n",
        "modelo = tf.keras.Sequential([oculta1,oculta2,salida])\n"
      ],
      "metadata": {
        "id": "dZHo-RrE8Obe"
      },
      "execution_count": 13,
      "outputs": []
    },
    {
      "cell_type": "code",
      "source": [
        "modelo.compile(\n",
        "    optimizer= tf.keras.optimizers.Adam(0.1),\n",
        "    loss = 'mean_squared_error'\n",
        ")"
      ],
      "metadata": {
        "id": "kUVNbeZy8suT"
      },
      "execution_count": 14,
      "outputs": []
    },
    {
      "cell_type": "code",
      "source": [
        "print(\"comenzando entrenamiento...\")\n",
        "\n",
        "historial = modelo.fit(celsius,fahrenheit,epochs = 1000,verbose = False)\n",
        "\n",
        "print(\"modelo entrenado!\")"
      ],
      "metadata": {
        "colab": {
          "base_uri": "https://localhost:8080/"
        },
        "id": "RRH9fqsK80Uq",
        "outputId": "4863428f-7faf-4701-a368-99005a2a1dd0"
      },
      "execution_count": 15,
      "outputs": [
        {
          "output_type": "stream",
          "name": "stdout",
          "text": [
            "comenzando entrenamiento...\n",
            "modelo entrenado!\n"
          ]
        }
      ]
    },
    {
      "cell_type": "code",
      "source": [
        "import matplotlib.pyplot as plt\n",
        "\n",
        "plt.xlabel(\"# Epoca\")\n",
        "plt.ylabel(\"Magnitud de pérdida\")\n",
        "plt.plot(historial.history[\"loss\"])"
      ],
      "metadata": {
        "colab": {
          "base_uri": "https://localhost:8080/",
          "height": 296
        },
        "id": "OlLf87LL9m7H",
        "outputId": "07e07f11-25d9-497c-99fe-01bd28a7b4a5"
      },
      "execution_count": 16,
      "outputs": [
        {
          "output_type": "execute_result",
          "data": {
            "text/plain": [
              "[<matplotlib.lines.Line2D at 0x7fad5c7f60a0>]"
            ]
          },
          "metadata": {},
          "execution_count": 16
        },
        {
          "output_type": "display_data",
          "data": {
            "text/plain": [
              "<Figure size 432x288 with 1 Axes>"
            ],
            "image/png": "[encoded data removed]"
          },
          "metadata": {
            "needs_background": "light"
          }
        }
      ]
    },
    {
      "cell_type": "code",
      "source": [
        "print(\"prediccion\")\n",
        "\n",
        "resultado = modelo.predict([100.0])\n",
        "\n",
        "print (\"El resultado es\" + str(resultado) + \"fh\")"
      ],
      "metadata": {
        "colab": {
          "base_uri": "https://localhost:8080/"
        },
        "id": "JhR4qJbN-BHH",
        "outputId": "b3b638b2-aa71-4435-cc10-ec42c1c999ab"
      },
      "execution_count": 17,
      "outputs": [
        {
          "output_type": "stream",
          "name": "stdout",
          "text": [
            "prediccion\n",
            "1/1 [==============================] - 0s 72ms/step\n",
            "El resultado es[[211.74747]]fh\n"
          ]
        }
      ]
    },
    {
      "cell_type": "code",
      "source": [
        "print(\"variables internas\")\n",
        "print(oculta1.get_weights())\n",
        "print(oculta2.get_weights())\n",
        "print(salida.get_weights())"
      ],
      "metadata": {
        "colab": {
          "base_uri": "https://localhost:8080/"
        },
        "id": "zAFbUNmb-cbo",
        "outputId": "13118cc3-5e53-44cc-904e-d460f0c1a78e"
      },
      "execution_count": 19,
      "outputs": [
        {
          "output_type": "stream",
          "name": "stdout",
          "text": [
            "variables internas\n",
            "[array([[-0.84353393, -0.56895715,  0.61488897]], dtype=float32), array([-3.918258 ,  2.7467132,  3.653395 ], dtype=float32)]\n",
            "[array([[-0.11262943,  0.59687835,  1.6954424 ],\n",
            "       [ 0.25714633, -0.06470034, -1.5183866 ],\n",
            "       [ 1.5939677 , -0.47360682, -0.69849384]], dtype=float32), array([ 1.4113588, -0.9818339, -4.187376 ], dtype=float32)]\n",
            "[array([[ 0.2897037 ],\n",
            "       [-0.14683814],\n",
            "       [-1.4236138 ]], dtype=float32), array([3.7676733], dtype=float32)]\n"
          ]
        }
      ]
    }
  ]
}